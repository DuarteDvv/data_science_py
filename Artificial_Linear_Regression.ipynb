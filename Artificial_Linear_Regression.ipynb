{
 "cells": [
  {
   "cell_type": "code",
   "execution_count": 30,
   "metadata": {},
   "outputs": [],
   "source": [
    "import pandas as pd\n",
    "import numpy as np\n",
    "\n",
    "import matplotlib.pyplot as plt \n",
    "%matplotlib inline\n",
    "import matplotlib as mpl\n",
    "mpl.rcParams['figure.dpi'] = 100 \n",
    "mpl.rcParams['font.size'] = 7\n",
    "\n",
    "from sklearn.linear_model import LogisticRegression, LinearRegression"
   ]
  },
  {
   "cell_type": "code",
   "execution_count": 31,
   "metadata": {},
   "outputs": [],
   "source": [
    "np.random.seed(seed=1)\n",
    "\n",
    "X = np.random.uniform(low=0.0, high=10.0, size=(1000)) # generation of the artificials x\n",
    "X2 = np.random.uniform(low=0.0, high=10.0, size=(1000)) # generation of the artificials x2\n",
    "\n",
    "X_all = np.column_stack((X, X2))\n",
    "\n",
    "\n",
    "slope = 0.25\n",
    "slope2 = 0.15\n",
    "intercept = -1.25\n",
    "\n",
    "y = slope * X + slope2 * X2 + np.random.normal(loc=0.0 , scale=1.0, size=(1000)) + intercept # loc -> mean, scale -> default desv Generation of the labels y\n",
    "\n",
    "\n"
   ]
  },
  {
   "cell_type": "code",
   "execution_count": 32,
   "metadata": {},
   "outputs": [
    {
     "name": "stdout",
     "output_type": "stream",
     "text": [
      "[0.26486113 0.14424699]\n",
      "-1.3165005801030891\n"
     ]
    }
   ],
   "source": [
    "linear_regression = LinearRegression(copy_X=True,fit_intercept=True,n_jobs=None,positive=False)\n",
    "\n",
    "linear_regression.fit(X= X_all,y= y) # Use all data on training to show overfitting\n",
    "\n",
    "print(linear_regression.coef_)\n",
    "print(linear_regression.intercept_)\n"
   ]
  }
 ],
 "metadata": {
  "kernelspec": {
   "display_name": "Python 3",
   "language": "python",
   "name": "python3"
  },
  "language_info": {
   "codemirror_mode": {
    "name": "ipython",
    "version": 3
   },
   "file_extension": ".py",
   "mimetype": "text/x-python",
   "name": "python",
   "nbconvert_exporter": "python",
   "pygments_lexer": "ipython3",
   "version": "3.13.0"
  }
 },
 "nbformat": 4,
 "nbformat_minor": 2
}
